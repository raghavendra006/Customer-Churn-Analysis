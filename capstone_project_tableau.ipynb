{
 "cells": [
  {
   "cell_type": "markdown",
   "id": "52dcf5a4",
   "metadata": {},
   "source": [
    "**Project Objective:**<br>\n",
    "    1. To analyze the customers who have stopped buying credit card.<br>\n",
    "    2. To improve credit card business of bank."
   ]
  },
  {
   "cell_type": "code",
   "execution_count": 15,
   "id": "21b20e68",
   "metadata": {},
   "outputs": [
    {
     "data": {
      "text/html": [
       "<div>\n",
       "<style scoped>\n",
       "    .dataframe tbody tr th:only-of-type {\n",
       "        vertical-align: middle;\n",
       "    }\n",
       "\n",
       "    .dataframe tbody tr th {\n",
       "        vertical-align: top;\n",
       "    }\n",
       "\n",
       "    .dataframe thead th {\n",
       "        text-align: right;\n",
       "    }\n",
       "</style>\n",
       "<table border=\"1\" class=\"dataframe\">\n",
       "  <thead>\n",
       "    <tr style=\"text-align: right;\">\n",
       "      <th></th>\n",
       "      <th>CLIENTNUM</th>\n",
       "      <th>Attrition_Flag</th>\n",
       "      <th>Customer_Age</th>\n",
       "      <th>Gender</th>\n",
       "      <th>Dependent_count</th>\n",
       "      <th>Education_Level</th>\n",
       "      <th>Marital_Status</th>\n",
       "      <th>Income_Category</th>\n",
       "      <th>Card_Category</th>\n",
       "      <th>Region</th>\n",
       "      <th>Months_on_book</th>\n",
       "      <th>Total_Relationship_Count</th>\n",
       "      <th>Months_Inactive_12_mon</th>\n",
       "      <th>Contacts_Count_12_mon</th>\n",
       "      <th>Credit_Limit</th>\n",
       "      <th>Total_Revolving_Bal</th>\n",
       "      <th>Avg_Open_To_Buy</th>\n",
       "      <th>Total_Trans_Amt</th>\n",
       "      <th>Total_Trans_Ct</th>\n",
       "      <th>Avg_Utilization_Ratio</th>\n",
       "    </tr>\n",
       "  </thead>\n",
       "  <tbody>\n",
       "    <tr>\n",
       "      <th>0</th>\n",
       "      <td>768805383</td>\n",
       "      <td>Existing Customer</td>\n",
       "      <td>45</td>\n",
       "      <td>M</td>\n",
       "      <td>3</td>\n",
       "      <td>High School</td>\n",
       "      <td>Married</td>\n",
       "      <td>$60K - $80K</td>\n",
       "      <td>Blue</td>\n",
       "      <td>England</td>\n",
       "      <td>39</td>\n",
       "      <td>5</td>\n",
       "      <td>1</td>\n",
       "      <td>3</td>\n",
       "      <td>12691.0</td>\n",
       "      <td>777</td>\n",
       "      <td>11914.0</td>\n",
       "      <td>1144</td>\n",
       "      <td>42</td>\n",
       "      <td>0.061</td>\n",
       "    </tr>\n",
       "    <tr>\n",
       "      <th>1</th>\n",
       "      <td>818770008</td>\n",
       "      <td>Existing Customer</td>\n",
       "      <td>49</td>\n",
       "      <td>F</td>\n",
       "      <td>5</td>\n",
       "      <td>Graduate</td>\n",
       "      <td>Single</td>\n",
       "      <td>Less than $40K</td>\n",
       "      <td>Blue</td>\n",
       "      <td>Northern Ireland</td>\n",
       "      <td>44</td>\n",
       "      <td>6</td>\n",
       "      <td>1</td>\n",
       "      <td>2</td>\n",
       "      <td>8256.0</td>\n",
       "      <td>864</td>\n",
       "      <td>7392.0</td>\n",
       "      <td>1291</td>\n",
       "      <td>33</td>\n",
       "      <td>0.105</td>\n",
       "    </tr>\n",
       "    <tr>\n",
       "      <th>2</th>\n",
       "      <td>713982108</td>\n",
       "      <td>Existing Customer</td>\n",
       "      <td>51</td>\n",
       "      <td>M</td>\n",
       "      <td>3</td>\n",
       "      <td>Graduate</td>\n",
       "      <td>Married</td>\n",
       "      <td>$80K - $120K</td>\n",
       "      <td>Blue</td>\n",
       "      <td>England</td>\n",
       "      <td>36</td>\n",
       "      <td>4</td>\n",
       "      <td>1</td>\n",
       "      <td>0</td>\n",
       "      <td>3418.0</td>\n",
       "      <td>0</td>\n",
       "      <td>3418.0</td>\n",
       "      <td>1887</td>\n",
       "      <td>20</td>\n",
       "      <td>0.000</td>\n",
       "    </tr>\n",
       "    <tr>\n",
       "      <th>3</th>\n",
       "      <td>769911858</td>\n",
       "      <td>Existing Customer</td>\n",
       "      <td>40</td>\n",
       "      <td>F</td>\n",
       "      <td>4</td>\n",
       "      <td>High School</td>\n",
       "      <td>Unknown</td>\n",
       "      <td>Less than $40K</td>\n",
       "      <td>Blue</td>\n",
       "      <td>Wales</td>\n",
       "      <td>34</td>\n",
       "      <td>3</td>\n",
       "      <td>4</td>\n",
       "      <td>1</td>\n",
       "      <td>3313.0</td>\n",
       "      <td>2517</td>\n",
       "      <td>796.0</td>\n",
       "      <td>1171</td>\n",
       "      <td>20</td>\n",
       "      <td>0.760</td>\n",
       "    </tr>\n",
       "    <tr>\n",
       "      <th>4</th>\n",
       "      <td>709106358</td>\n",
       "      <td>Existing Customer</td>\n",
       "      <td>40</td>\n",
       "      <td>M</td>\n",
       "      <td>3</td>\n",
       "      <td>Uneducated</td>\n",
       "      <td>Married</td>\n",
       "      <td>$60K - $80K</td>\n",
       "      <td>Blue</td>\n",
       "      <td>England</td>\n",
       "      <td>21</td>\n",
       "      <td>5</td>\n",
       "      <td>1</td>\n",
       "      <td>0</td>\n",
       "      <td>4716.0</td>\n",
       "      <td>0</td>\n",
       "      <td>4716.0</td>\n",
       "      <td>816</td>\n",
       "      <td>28</td>\n",
       "      <td>0.000</td>\n",
       "    </tr>\n",
       "    <tr>\n",
       "      <th>...</th>\n",
       "      <td>...</td>\n",
       "      <td>...</td>\n",
       "      <td>...</td>\n",
       "      <td>...</td>\n",
       "      <td>...</td>\n",
       "      <td>...</td>\n",
       "      <td>...</td>\n",
       "      <td>...</td>\n",
       "      <td>...</td>\n",
       "      <td>...</td>\n",
       "      <td>...</td>\n",
       "      <td>...</td>\n",
       "      <td>...</td>\n",
       "      <td>...</td>\n",
       "      <td>...</td>\n",
       "      <td>...</td>\n",
       "      <td>...</td>\n",
       "      <td>...</td>\n",
       "      <td>...</td>\n",
       "      <td>...</td>\n",
       "    </tr>\n",
       "    <tr>\n",
       "      <th>10122</th>\n",
       "      <td>772366833</td>\n",
       "      <td>Existing Customer</td>\n",
       "      <td>50</td>\n",
       "      <td>M</td>\n",
       "      <td>2</td>\n",
       "      <td>Graduate</td>\n",
       "      <td>Single</td>\n",
       "      <td>$40K - $60K</td>\n",
       "      <td>Blue</td>\n",
       "      <td>England</td>\n",
       "      <td>40</td>\n",
       "      <td>3</td>\n",
       "      <td>2</td>\n",
       "      <td>3</td>\n",
       "      <td>4003.0</td>\n",
       "      <td>1851</td>\n",
       "      <td>2152.0</td>\n",
       "      <td>15476</td>\n",
       "      <td>117</td>\n",
       "      <td>0.462</td>\n",
       "    </tr>\n",
       "    <tr>\n",
       "      <th>10123</th>\n",
       "      <td>710638233</td>\n",
       "      <td>Attrited Customer</td>\n",
       "      <td>41</td>\n",
       "      <td>M</td>\n",
       "      <td>2</td>\n",
       "      <td>Unknown</td>\n",
       "      <td>Divorced</td>\n",
       "      <td>$40K - $60K</td>\n",
       "      <td>Blue</td>\n",
       "      <td>England</td>\n",
       "      <td>25</td>\n",
       "      <td>4</td>\n",
       "      <td>2</td>\n",
       "      <td>3</td>\n",
       "      <td>4277.0</td>\n",
       "      <td>2186</td>\n",
       "      <td>2091.0</td>\n",
       "      <td>8764</td>\n",
       "      <td>69</td>\n",
       "      <td>0.511</td>\n",
       "    </tr>\n",
       "    <tr>\n",
       "      <th>10124</th>\n",
       "      <td>716506083</td>\n",
       "      <td>Attrited Customer</td>\n",
       "      <td>44</td>\n",
       "      <td>F</td>\n",
       "      <td>1</td>\n",
       "      <td>High School</td>\n",
       "      <td>Married</td>\n",
       "      <td>Less than $40K</td>\n",
       "      <td>Blue</td>\n",
       "      <td>England</td>\n",
       "      <td>36</td>\n",
       "      <td>5</td>\n",
       "      <td>3</td>\n",
       "      <td>4</td>\n",
       "      <td>5409.0</td>\n",
       "      <td>0</td>\n",
       "      <td>5409.0</td>\n",
       "      <td>10291</td>\n",
       "      <td>60</td>\n",
       "      <td>0.000</td>\n",
       "    </tr>\n",
       "    <tr>\n",
       "      <th>10125</th>\n",
       "      <td>717406983</td>\n",
       "      <td>Attrited Customer</td>\n",
       "      <td>30</td>\n",
       "      <td>M</td>\n",
       "      <td>2</td>\n",
       "      <td>Graduate</td>\n",
       "      <td>Unknown</td>\n",
       "      <td>$40K - $60K</td>\n",
       "      <td>Blue</td>\n",
       "      <td>England</td>\n",
       "      <td>36</td>\n",
       "      <td>4</td>\n",
       "      <td>3</td>\n",
       "      <td>3</td>\n",
       "      <td>5281.0</td>\n",
       "      <td>0</td>\n",
       "      <td>5281.0</td>\n",
       "      <td>8395</td>\n",
       "      <td>62</td>\n",
       "      <td>0.000</td>\n",
       "    </tr>\n",
       "    <tr>\n",
       "      <th>10126</th>\n",
       "      <td>714337233</td>\n",
       "      <td>Attrited Customer</td>\n",
       "      <td>43</td>\n",
       "      <td>F</td>\n",
       "      <td>2</td>\n",
       "      <td>Graduate</td>\n",
       "      <td>Married</td>\n",
       "      <td>Less than $40K</td>\n",
       "      <td>Silver</td>\n",
       "      <td>Scotland</td>\n",
       "      <td>25</td>\n",
       "      <td>6</td>\n",
       "      <td>2</td>\n",
       "      <td>4</td>\n",
       "      <td>10388.0</td>\n",
       "      <td>1961</td>\n",
       "      <td>8427.0</td>\n",
       "      <td>10294</td>\n",
       "      <td>61</td>\n",
       "      <td>0.189</td>\n",
       "    </tr>\n",
       "  </tbody>\n",
       "</table>\n",
       "<p>10127 rows × 20 columns</p>\n",
       "</div>"
      ],
      "text/plain": [
       "       CLIENTNUM     Attrition_Flag  Customer_Age Gender  Dependent_count  \\\n",
       "0      768805383  Existing Customer            45      M                3   \n",
       "1      818770008  Existing Customer            49      F                5   \n",
       "2      713982108  Existing Customer            51      M                3   \n",
       "3      769911858  Existing Customer            40      F                4   \n",
       "4      709106358  Existing Customer            40      M                3   \n",
       "...          ...                ...           ...    ...              ...   \n",
       "10122  772366833  Existing Customer            50      M                2   \n",
       "10123  710638233  Attrited Customer            41      M                2   \n",
       "10124  716506083  Attrited Customer            44      F                1   \n",
       "10125  717406983  Attrited Customer            30      M                2   \n",
       "10126  714337233  Attrited Customer            43      F                2   \n",
       "\n",
       "      Education_Level Marital_Status Income_Category Card_Category  \\\n",
       "0         High School        Married     $60K - $80K          Blue   \n",
       "1            Graduate         Single  Less than $40K          Blue   \n",
       "2            Graduate        Married    $80K - $120K          Blue   \n",
       "3         High School        Unknown  Less than $40K          Blue   \n",
       "4          Uneducated        Married     $60K - $80K          Blue   \n",
       "...               ...            ...             ...           ...   \n",
       "10122        Graduate         Single     $40K - $60K          Blue   \n",
       "10123         Unknown       Divorced     $40K - $60K          Blue   \n",
       "10124     High School        Married  Less than $40K          Blue   \n",
       "10125        Graduate        Unknown     $40K - $60K          Blue   \n",
       "10126        Graduate        Married  Less than $40K        Silver   \n",
       "\n",
       "                 Region  Months_on_book  Total_Relationship_Count  \\\n",
       "0               England              39                         5   \n",
       "1      Northern Ireland              44                         6   \n",
       "2               England              36                         4   \n",
       "3                 Wales              34                         3   \n",
       "4               England              21                         5   \n",
       "...                 ...             ...                       ...   \n",
       "10122           England              40                         3   \n",
       "10123           England              25                         4   \n",
       "10124           England              36                         5   \n",
       "10125           England              36                         4   \n",
       "10126          Scotland              25                         6   \n",
       "\n",
       "       Months_Inactive_12_mon  Contacts_Count_12_mon  Credit_Limit  \\\n",
       "0                           1                      3       12691.0   \n",
       "1                           1                      2        8256.0   \n",
       "2                           1                      0        3418.0   \n",
       "3                           4                      1        3313.0   \n",
       "4                           1                      0        4716.0   \n",
       "...                       ...                    ...           ...   \n",
       "10122                       2                      3        4003.0   \n",
       "10123                       2                      3        4277.0   \n",
       "10124                       3                      4        5409.0   \n",
       "10125                       3                      3        5281.0   \n",
       "10126                       2                      4       10388.0   \n",
       "\n",
       "       Total_Revolving_Bal  Avg_Open_To_Buy  Total_Trans_Amt  Total_Trans_Ct  \\\n",
       "0                      777          11914.0             1144              42   \n",
       "1                      864           7392.0             1291              33   \n",
       "2                        0           3418.0             1887              20   \n",
       "3                     2517            796.0             1171              20   \n",
       "4                        0           4716.0              816              28   \n",
       "...                    ...              ...              ...             ...   \n",
       "10122                 1851           2152.0            15476             117   \n",
       "10123                 2186           2091.0             8764              69   \n",
       "10124                    0           5409.0            10291              60   \n",
       "10125                    0           5281.0             8395              62   \n",
       "10126                 1961           8427.0            10294              61   \n",
       "\n",
       "       Avg_Utilization_Ratio  \n",
       "0                      0.061  \n",
       "1                      0.105  \n",
       "2                      0.000  \n",
       "3                      0.760  \n",
       "4                      0.000  \n",
       "...                      ...  \n",
       "10122                  0.462  \n",
       "10123                  0.511  \n",
       "10124                  0.000  \n",
       "10125                  0.000  \n",
       "10126                  0.189  \n",
       "\n",
       "[10127 rows x 20 columns]"
      ]
     },
     "execution_count": 15,
     "metadata": {},
     "output_type": "execute_result"
    }
   ],
   "source": [
    "#import all required packages\n",
    "import numpy as np\n",
    "import pandas as pd\n",
    "import matplotlib.pyplot as plt\n",
    "import seaborn as sb\n",
    "import warnings\n",
    "warnings.filterwarnings('ignore')\n",
    "\n",
    "#to read data to data frame from csv file\n",
    "data=pd.read_csv(r\"DS1_C8_V3_ND_Sprint3_BankChurn_Data.csv\")\n",
    "data"
   ]
  },
  {
   "cell_type": "code",
   "execution_count": 16,
   "id": "d045d545",
   "metadata": {},
   "outputs": [
    {
     "data": {
      "text/plain": [
       "(10127, 20)"
      ]
     },
     "execution_count": 16,
     "metadata": {},
     "output_type": "execute_result"
    }
   ],
   "source": [
    "#to get count of rows and columns in data\n",
    "data.shape"
   ]
  },
  {
   "cell_type": "code",
   "execution_count": 17,
   "id": "d118a97b",
   "metadata": {},
   "outputs": [
    {
     "name": "stdout",
     "output_type": "stream",
     "text": [
      "<class 'pandas.core.frame.DataFrame'>\n",
      "RangeIndex: 10127 entries, 0 to 10126\n",
      "Data columns (total 20 columns):\n",
      " #   Column                    Non-Null Count  Dtype  \n",
      "---  ------                    --------------  -----  \n",
      " 0   CLIENTNUM                 10127 non-null  int64  \n",
      " 1   Attrition_Flag            10127 non-null  object \n",
      " 2   Customer_Age              10127 non-null  int64  \n",
      " 3   Gender                    10127 non-null  object \n",
      " 4   Dependent_count           10127 non-null  int64  \n",
      " 5   Education_Level           10127 non-null  object \n",
      " 6   Marital_Status            10127 non-null  object \n",
      " 7   Income_Category           10127 non-null  object \n",
      " 8   Card_Category             9995 non-null   object \n",
      " 9   Region                    10127 non-null  object \n",
      " 10  Months_on_book            10127 non-null  int64  \n",
      " 11  Total_Relationship_Count  10127 non-null  int64  \n",
      " 12  Months_Inactive_12_mon    10127 non-null  int64  \n",
      " 13  Contacts_Count_12_mon     10127 non-null  int64  \n",
      " 14  Credit_Limit              10067 non-null  float64\n",
      " 15  Total_Revolving_Bal       10127 non-null  int64  \n",
      " 16  Avg_Open_To_Buy           10127 non-null  float64\n",
      " 17  Total_Trans_Amt           10127 non-null  int64  \n",
      " 18  Total_Trans_Ct            10127 non-null  int64  \n",
      " 19  Avg_Utilization_Ratio     10127 non-null  float64\n",
      "dtypes: float64(3), int64(10), object(7)\n",
      "memory usage: 1.5+ MB\n"
     ]
    }
   ],
   "source": [
    "#to get information of data\n",
    "data.info()"
   ]
  },
  {
   "cell_type": "code",
   "execution_count": 18,
   "id": "74455d63",
   "metadata": {},
   "outputs": [
    {
     "data": {
      "text/plain": [
       "Index(['CLIENTNUM', 'Attrition_Flag', 'Customer_Age', 'Gender',\n",
       "       'Dependent_count', 'Education_Level', 'Marital_Status',\n",
       "       'Income_Category', 'Card_Category', 'Region', 'Months_on_book',\n",
       "       'Total_Relationship_Count', 'Months_Inactive_12_mon',\n",
       "       'Contacts_Count_12_mon', 'Credit_Limit', 'Total_Revolving_Bal',\n",
       "       'Avg_Open_To_Buy', 'Total_Trans_Amt', 'Total_Trans_Ct',\n",
       "       'Avg_Utilization_Ratio'],\n",
       "      dtype='object')"
      ]
     },
     "execution_count": 18,
     "metadata": {},
     "output_type": "execute_result"
    }
   ],
   "source": [
    "data.columns"
   ]
  },
  {
   "cell_type": "markdown",
   "id": "496b4c38",
   "metadata": {},
   "source": [
    "# Identify missing values in the dataset & display the count of Missing values"
   ]
  },
  {
   "cell_type": "code",
   "execution_count": 19,
   "id": "1d932403",
   "metadata": {},
   "outputs": [
    {
     "data": {
      "text/plain": [
       "CLIENTNUM                     0\n",
       "Attrition_Flag                0\n",
       "Customer_Age                  0\n",
       "Gender                        0\n",
       "Dependent_count               0\n",
       "Education_Level               0\n",
       "Marital_Status                0\n",
       "Income_Category               0\n",
       "Card_Category               132\n",
       "Region                        0\n",
       "Months_on_book                0\n",
       "Total_Relationship_Count      0\n",
       "Months_Inactive_12_mon        0\n",
       "Contacts_Count_12_mon         0\n",
       "Credit_Limit                 60\n",
       "Total_Revolving_Bal           0\n",
       "Avg_Open_To_Buy               0\n",
       "Total_Trans_Amt               0\n",
       "Total_Trans_Ct                0\n",
       "Avg_Utilization_Ratio         0\n",
       "dtype: int64"
      ]
     },
     "execution_count": 19,
     "metadata": {},
     "output_type": "execute_result"
    }
   ],
   "source": [
    "#to check null values\n",
    "data.isnull().sum()"
   ]
  },
  {
   "cell_type": "markdown",
   "id": "71f6d8dc",
   "metadata": {},
   "source": [
    "# Perform Data Imputation"
   ]
  },
  {
   "cell_type": "code",
   "execution_count": 20,
   "id": "c56d8184",
   "metadata": {},
   "outputs": [],
   "source": [
    "#to replace null values with mode and mean\n",
    "data['Card_Category']=data['Card_Category'].fillna(data['Card_Category'].mode()[0],inplace=True)\n",
    "data['Credit_Limit']=data['Credit_Limit'].fillna(data['Credit_Limit'].median(),inplace=True)"
   ]
  },
  {
   "cell_type": "code",
   "execution_count": 22,
   "id": "55267dd5",
   "metadata": {},
   "outputs": [
    {
     "data": {
      "text/plain": [
       "CLIENTNUM                   0\n",
       "Attrition_Flag              0\n",
       "Customer_Age                0\n",
       "Gender                      0\n",
       "Dependent_count             0\n",
       "Education_Level             0\n",
       "Marital_Status              0\n",
       "Income_Category             0\n",
       "Card_Category               0\n",
       "Region                      0\n",
       "Months_on_book              0\n",
       "Total_Relationship_Count    0\n",
       "Months_Inactive_12_mon      0\n",
       "Contacts_Count_12_mon       0\n",
       "Credit_Limit                0\n",
       "Total_Revolving_Bal         0\n",
       "Avg_Open_To_Buy             0\n",
       "Total_Trans_Amt             0\n",
       "Total_Trans_Ct              0\n",
       "Avg_Utilization_Ratio       0\n",
       "dtype: int64"
      ]
     },
     "execution_count": 22,
     "metadata": {},
     "output_type": "execute_result"
    }
   ],
   "source": [
    "#checking for null values\n",
    "data.isnull().sum()"
   ]
  },
  {
   "cell_type": "markdown",
   "id": "30d3290d",
   "metadata": {},
   "source": [
    "Data has no null values"
   ]
  },
  {
   "cell_type": "markdown",
   "id": "3579f20a",
   "metadata": {},
   "source": [
    "### columns of categorial data type"
   ]
  },
  {
   "cell_type": "code",
   "execution_count": 27,
   "id": "d6ce4e6e",
   "metadata": {},
   "outputs": [
    {
     "name": "stdout",
     "output_type": "stream",
     "text": [
      "Columns that are Categorical data type are: ['Attrition_Flag', 'Gender', 'Education_Level', 'Marital_Status', 'Income_Category', 'Card_Category', 'Region', 'Total_Relationship_Count', 'Months_Inactive_12_mon', 'Contacts_Count_12_mon']\n"
     ]
    }
   ],
   "source": [
    "cat=[]\n",
    "for i in data.columns:\n",
    "    if data[i].nunique()<=30 :\n",
    "        cat.append(i)\n",
    "print(\"Columns that are Categorical data type are:\",cat)"
   ]
  },
  {
   "cell_type": "markdown",
   "id": "09eb2938",
   "metadata": {},
   "source": [
    "### columns of Numeric data type"
   ]
  },
  {
   "cell_type": "code",
   "execution_count": 38,
   "id": "c65ae06b",
   "metadata": {},
   "outputs": [
    {
     "data": {
      "text/plain": [
       "[Index(['CLIENTNUM', 'Customer_Age', 'Dependent_count', 'Months_on_book',\n",
       "        'Credit_Limit', 'Total_Revolving_Bal', 'Avg_Open_To_Buy',\n",
       "        'Total_Trans_Amt', 'Total_Trans_Ct', 'Avg_Utilization_Ratio'],\n",
       "       dtype='object')]"
      ]
     },
     "execution_count": 38,
     "metadata": {},
     "output_type": "execute_result"
    }
   ],
   "source": [
    "# using fun_con function we find Columns that are Numeric data type.\n",
    "con=[]\n",
    "con1=data.drop(cat,axis=1) \n",
    "con.append(con1.columns)\n",
    "con\n",
    "#con list is created,having Numeric data type"
   ]
  },
  {
   "cell_type": "code",
   "execution_count": 71,
   "id": "bb5c2433",
   "metadata": {},
   "outputs": [],
   "source": [
    "#dataframe of cat\n",
    "data_cat=data.loc[:,cat]\n",
    "\n",
    "#dataframe of col\n",
    "data_col=data.drop(cat,axis=1)"
   ]
  },
  {
   "cell_type": "markdown",
   "id": "8cac3c53",
   "metadata": {},
   "source": [
    "# categorial columns"
   ]
  },
  {
   "cell_type": "code",
   "execution_count": 60,
   "id": "7f495d7a",
   "metadata": {},
   "outputs": [],
   "source": [
    "def fun_cate1(col):\n",
    "    if data_cat[col].isnull().sum()>0:\n",
    "        data_cat[col].fillna(data_cat[col].mode()[0],inplace=True)\n",
    "    print(f\"{col}:Number of category is {data_cat[col].unique()}\")\n",
    "    \n",
    "    print(f\"{col}:Missing Value is {data_cat[col].isnull().sum()}\")\n",
    "    print(\"\\n\")"
   ]
  },
  {
   "cell_type": "code",
   "execution_count": 61,
   "id": "977251e1",
   "metadata": {},
   "outputs": [
    {
     "name": "stdout",
     "output_type": "stream",
     "text": [
      "Attrition_Flag:Number of category is ['Existing Customer' 'Attrited Customer']\n",
      "Attrition_Flag:Missing Value is 0\n",
      "\n",
      "\n",
      "Gender:Number of category is ['M' 'F']\n",
      "Gender:Missing Value is 0\n",
      "\n",
      "\n",
      "Education_Level:Number of category is ['High School' 'Graduate' 'Uneducated' 'Unknown' 'College' 'Post-Graduate'\n",
      " 'Doctorate']\n",
      "Education_Level:Missing Value is 0\n",
      "\n",
      "\n",
      "Marital_Status:Number of category is ['Married' 'Single' 'Unknown' 'Divorced']\n",
      "Marital_Status:Missing Value is 0\n",
      "\n",
      "\n",
      "Income_Category:Number of category is ['$60K - $80K' 'Less than $40K' '$80K - $120K' '$40K - $60K' '$120K +'\n",
      " 'Unknown']\n",
      "Income_Category:Missing Value is 0\n",
      "\n",
      "\n",
      "Card_Category:Number of category is ['Blue' 'Gold' 'Silver' 'Platinum']\n",
      "Card_Category:Missing Value is 0\n",
      "\n",
      "\n",
      "Region:Number of category is ['England' 'Northern Ireland' 'Wales' 'Scotland']\n",
      "Region:Missing Value is 0\n",
      "\n",
      "\n",
      "Total_Relationship_Count:Number of category is [5 6 4 3 2 1]\n",
      "Total_Relationship_Count:Missing Value is 0\n",
      "\n",
      "\n",
      "Months_Inactive_12_mon:Number of category is [1 4 2 3 6 0 5]\n",
      "Months_Inactive_12_mon:Missing Value is 0\n",
      "\n",
      "\n",
      "Contacts_Count_12_mon:Number of category is [3 2 0 1 4 5 6]\n",
      "Contacts_Count_12_mon:Missing Value is 0\n",
      "\n",
      "\n"
     ]
    }
   ],
   "source": [
    "for col in data_cat.columns:\n",
    "    fun_cate1(col)"
   ]
  },
  {
   "cell_type": "markdown",
   "id": "27c49bbe",
   "metadata": {},
   "source": [
    "# Summary statistics of Continues columns  "
   ]
  },
  {
   "cell_type": "code",
   "execution_count": 76,
   "id": "2a5c6488",
   "metadata": {},
   "outputs": [],
   "source": [
    "#To replace missing values of Continues columns with mean value\n",
    "def fun_num(i):\n",
    "    if data_col[i].isnull().sum()>0:\n",
    "        data_col[i].fillna(data_col[i].mean(),inplace=True)\n",
    "    \n",
    "    print(f\"{i}:Missing Value is {data_col[i].isnull().sum()}\")\n",
    "    print(f\"{i}:Mean is {data_col[i].mean()}\")\n",
    "    print(f\"{i}:Median is {data_col[i].median()}\")\n",
    "    print(f\"{i}:Mode is {data_col[i].mode()[0]}\")\n",
    "    print(f\"{i}:Standard Deviation is {data_col[i].std()}\")\n",
    "    print(f\"{i}:Variance is {data_col[i].var()}\")\n",
    "    print(f\"{i}:COV is {data_col[i].std()/data_col[i].mean()*100}\")\n",
    "    print(\"\\n\")"
   ]
  },
  {
   "cell_type": "code",
   "execution_count": 77,
   "id": "eea31984",
   "metadata": {},
   "outputs": [
    {
     "name": "stdout",
     "output_type": "stream",
     "text": [
      "CLIENTNUM:Missing Value is 0\n",
      "CLIENTNUM:Mean is 739177606.3336625\n",
      "CLIENTNUM:Median is 717926358.0\n",
      "CLIENTNUM:Mode is 708082083\n",
      "CLIENTNUM:Standard Deviation is 36903783.45023111\n",
      "CLIENTNUM:Variance is 1361889232941551.5\n",
      "CLIENTNUM:COV is 4.992546193772658\n",
      "\n",
      "\n",
      "Customer_Age:Missing Value is 0\n",
      "Customer_Age:Mean is 46.382245482373854\n",
      "Customer_Age:Median is 46.0\n",
      "Customer_Age:Mode is 44\n",
      "Customer_Age:Standard Deviation is 8.341393132886584\n",
      "Customer_Age:Variance is 69.57883939736746\n",
      "Customer_Age:COV is 17.984021787079012\n",
      "\n",
      "\n",
      "Dependent_count:Missing Value is 0\n",
      "Dependent_count:Mean is 2.7874000197491853\n",
      "Dependent_count:Median is 2.0\n",
      "Dependent_count:Mode is 3\n",
      "Dependent_count:Standard Deviation is 6.479134929706418\n",
      "Dependent_count:Variance is 41.97918943734179\n",
      "Dependent_count:COV is 232.44367094068616\n",
      "\n",
      "\n",
      "Months_on_book:Missing Value is 0\n",
      "Months_on_book:Mean is 35.928409203120374\n",
      "Months_on_book:Median is 36.0\n",
      "Months_on_book:Mode is 36\n",
      "Months_on_book:Standard Deviation is 7.986416330871776\n",
      "Months_on_book:Variance is 63.7828458100154\n",
      "Months_on_book:COV is 22.228694528947187\n",
      "\n",
      "\n",
      "Credit_Limit:Missing Value is 0\n",
      "Credit_Limit:Mean is 8703.180550312904\n",
      "Credit_Limit:Median is 4597.0\n",
      "Credit_Limit:Mode is 34516.0\n",
      "Credit_Limit:Standard Deviation is 9162.791334473803\n",
      "Credit_Limit:Variance is 83956745.0391082\n",
      "Credit_Limit:COV is 105.28095196352527\n",
      "\n",
      "\n",
      "Total_Revolving_Bal:Missing Value is 0\n",
      "Total_Revolving_Bal:Mean is 1162.8140614199665\n",
      "Total_Revolving_Bal:Median is 1276.0\n",
      "Total_Revolving_Bal:Mode is 0\n",
      "Total_Revolving_Bal:Standard Deviation is 814.9873352357697\n",
      "Total_Revolving_Bal:Variance is 664204.356594701\n",
      "Total_Revolving_Bal:COV is 70.08750257462063\n",
      "\n",
      "\n",
      "Avg_Open_To_Buy:Missing Value is 0\n",
      "Avg_Open_To_Buy:Mean is 7469.139636614989\n",
      "Avg_Open_To_Buy:Median is 3474.0\n",
      "Avg_Open_To_Buy:Mode is 1438.3\n",
      "Avg_Open_To_Buy:Standard Deviation is 9090.685323679128\n",
      "Avg_Open_To_Buy:Variance is 82640559.6541551\n",
      "Avg_Open_To_Buy:COV is 121.70993937661905\n",
      "\n",
      "\n",
      "Total_Trans_Amt:Missing Value is 0\n",
      "Total_Trans_Amt:Mean is 4404.086303939963\n",
      "Total_Trans_Amt:Median is 3899.0\n",
      "Total_Trans_Amt:Mode is 4253\n",
      "Total_Trans_Amt:Standard Deviation is 3397.129253557085\n",
      "Total_Trans_Amt:Variance is 11540487.165373318\n",
      "Total_Trans_Amt:COV is 77.13584655500418\n",
      "\n",
      "\n",
      "Total_Trans_Ct:Missing Value is 0\n",
      "Total_Trans_Ct:Mean is 64.85869457884863\n",
      "Total_Trans_Ct:Median is 67.0\n",
      "Total_Trans_Ct:Mode is 81\n",
      "Total_Trans_Ct:Standard Deviation is 23.472570449233046\n",
      "Total_Trans_Ct:Variance is 550.9615634942085\n",
      "Total_Trans_Ct:COV is 36.19032205573838\n",
      "\n",
      "\n",
      "Avg_Utilization_Ratio:Missing Value is 0\n",
      "Avg_Utilization_Ratio:Mean is 0.2748935518909845\n",
      "Avg_Utilization_Ratio:Median is 0.176\n",
      "Avg_Utilization_Ratio:Mode is 0.0\n",
      "Avg_Utilization_Ratio:Standard Deviation is 0.2756914692523933\n",
      "Avg_Utilization_Ratio:Variance is 0.07600578621854333\n",
      "Avg_Utilization_Ratio:COV is 100.29026412439286\n",
      "\n",
      "\n"
     ]
    }
   ],
   "source": [
    "for i in data_col.columns:\n",
    "    fun_num(i)   "
   ]
  },
  {
   "cell_type": "markdown",
   "id": "2eaefe14",
   "metadata": {},
   "source": [
    "# Identify the Outliers in the dataset"
   ]
  },
  {
   "cell_type": "code",
   "execution_count": 45,
   "id": "cd7f4528",
   "metadata": {},
   "outputs": [
    {
     "data": {
      "image/png": "[encoded data removed]",
      "text/plain": [
       "<Figure size 420x310 with 1 Axes>"
      ]
     },
     "metadata": {},
     "output_type": "display_data"
    }
   ],
   "source": [
    "#Customer_Age\n",
    "plt.figure(figsize=(4.2,3.1))\n",
    "sb.boxplot(x=data['Customer_Age'])\n",
    "plt.title(\"Box plot for Customer Age\")\n",
    "plt.xlabel(\"Age\")\n",
    "plt.show()"
   ]
  },
  {
   "cell_type": "markdown",
   "id": "46fd20ea",
   "metadata": {},
   "source": [
    "**Observation:**<br>\n",
    "    Age has outliers."
   ]
  },
  {
   "cell_type": "code",
   "execution_count": 47,
   "id": "3573e88a",
   "metadata": {},
   "outputs": [
    {
     "data": {
      "image/png": "[encoded data removed]",
      "text/plain": [
       "<Figure size 420x310 with 1 Axes>"
      ]
     },
     "metadata": {},
     "output_type": "display_data"
    }
   ],
   "source": [
    "#Dependent_count\n",
    "plt.figure(figsize=(4.2,3.1))\n",
    "sb.boxplot(x=data['Dependent_count'])\n",
    "plt.title(\"Box plot for Dependent count\")\n",
    "plt.xlabel(\"Count\")\n",
    "plt.show()"
   ]
  },
  {
   "cell_type": "markdown",
   "id": "cfb82462",
   "metadata": {},
   "source": [
    "**Observation:**<br>\n",
    "    Dependent count has outliers."
   ]
  },
  {
   "cell_type": "code",
   "execution_count": 48,
   "id": "dc23b878",
   "metadata": {},
   "outputs": [
    {
     "data": {
      "image/png": "[encoded data removed]",
      "text/plain": [
       "<Figure size 420x310 with 1 Axes>"
      ]
     },
     "metadata": {},
     "output_type": "display_data"
    }
   ],
   "source": [
    "#Months_on_book\n",
    "plt.figure(figsize=(4.2,3.1))\n",
    "sb.boxplot(x=data['Months_on_book'])\n",
    "plt.title(\"Box plot for Months on book\")\n",
    "plt.xlabel(\"Months on book\")\n",
    "plt.show()"
   ]
  },
  {
   "cell_type": "markdown",
   "id": "afa30571",
   "metadata": {},
   "source": [
    "**Observation:**<br>\n",
    "    Months on book has outliers."
   ]
  },
  {
   "cell_type": "code",
   "execution_count": 49,
   "id": "1125ae04",
   "metadata": {},
   "outputs": [
    {
     "data": {
      "image/png": "[encoded data removed]",
      "text/plain": [
       "<Figure size 420x310 with 1 Axes>"
      ]
     },
     "metadata": {},
     "output_type": "display_data"
    }
   ],
   "source": [
    "#Credit_Limit\n",
    "plt.figure(figsize=(4.2,3.1))\n",
    "sb.boxplot(x=data['Credit_Limit'])\n",
    "plt.title(\"Box plot for Credit Limit\")\n",
    "plt.xlabel(\"Credit Limit\")\n",
    "plt.show()"
   ]
  },
  {
   "cell_type": "markdown",
   "id": "0ddba22f",
   "metadata": {},
   "source": [
    "**Observation:**<br>\n",
    "    Credit Limit has outliers."
   ]
  },
  {
   "cell_type": "code",
   "execution_count": 50,
   "id": "0c30cb23",
   "metadata": {},
   "outputs": [
    {
     "data": {
      "image/png": "[encoded data removed]",
      "text/plain": [
       "<Figure size 420x310 with 1 Axes>"
      ]
     },
     "metadata": {},
     "output_type": "display_data"
    }
   ],
   "source": [
    "#Total_Revolving_Bal\n",
    "plt.figure(figsize=(4.2,3.1))\n",
    "sb.boxplot(x=data['Total_Revolving_Bal'])\n",
    "plt.title(\"Box plot for Total Revolving Balance\")\n",
    "plt.xlabel(\"Total Revolving Balance\")\n",
    "plt.show()"
   ]
  },
  {
   "cell_type": "markdown",
   "id": "b1eacd2b",
   "metadata": {},
   "source": [
    "**Observation:**<br>\n",
    "    Total Revolving Balance has no outliers."
   ]
  },
  {
   "cell_type": "code",
   "execution_count": 51,
   "id": "e085bd82",
   "metadata": {},
   "outputs": [
    {
     "data": {
      "image/png": "[encoded data removed]",
      "text/plain": [
       "<Figure size 420x310 with 1 Axes>"
      ]
     },
     "metadata": {},
     "output_type": "display_data"
    }
   ],
   "source": [
    "#Avg_Open_To_Buy\n",
    "plt.figure(figsize=(4.2,3.1))\n",
    "sb.boxplot(x=data['Avg_Open_To_Buy'])\n",
    "plt.title(\"Box plot for Average Open To Buy\")\n",
    "plt.xlabel(\"Average Open To Buy\")\n",
    "plt.show()"
   ]
  },
  {
   "cell_type": "markdown",
   "id": "59ff73b3",
   "metadata": {},
   "source": [
    "**Observation:**<br>\n",
    "    Avg_Open_To_Buy has outliers."
   ]
  },
  {
   "cell_type": "code",
   "execution_count": 53,
   "id": "1c385094",
   "metadata": {},
   "outputs": [
    {
     "data": {
      "image/png": "[encoded data removed]",
      "text/plain": [
       "<Figure size 420x310 with 1 Axes>"
      ]
     },
     "metadata": {},
     "output_type": "display_data"
    }
   ],
   "source": [
    "#Total_Trans_Amt\n",
    "plt.figure(figsize=(4.2,3.1))\n",
    "sb.boxplot(x=data['Total_Trans_Amt'])\n",
    "plt.title(\"Box plot for Total Trans Amount\")\n",
    "plt.xlabel(\"Total Trans Amount\")\n",
    "plt.show()"
   ]
  },
  {
   "cell_type": "markdown",
   "id": "ec6fab91",
   "metadata": {},
   "source": [
    "**Observation:**<br>\n",
    "    Total Trans Amount has outliers."
   ]
  },
  {
   "cell_type": "code",
   "execution_count": 55,
   "id": "3784988a",
   "metadata": {},
   "outputs": [
    {
     "data": {
      "image/png": "[encoded data removed]",
      "text/plain": [
       "<Figure size 420x310 with 1 Axes>"
      ]
     },
     "metadata": {},
     "output_type": "display_data"
    }
   ],
   "source": [
    "#Total_Trans_Ct\n",
    "plt.figure(figsize=(4.2,3.1))\n",
    "sb.boxplot(x=data['Total_Trans_Ct'])\n",
    "plt.title(\"Box plot for Total Trans Ct\")\n",
    "plt.xlabel(\"Total Trans Ct\")\n",
    "plt.show()"
   ]
  },
  {
   "cell_type": "markdown",
   "id": "6a82dc02",
   "metadata": {},
   "source": [
    "**Observation:**<br>\n",
    "    Total_Trans_Ct has outliers."
   ]
  },
  {
   "cell_type": "code",
   "execution_count": 57,
   "id": "1a39da35",
   "metadata": {},
   "outputs": [
    {
     "data": {
      "image/png": "[encoded data removed]",
      "text/plain": [
       "<Figure size 420x310 with 1 Axes>"
      ]
     },
     "metadata": {},
     "output_type": "display_data"
    }
   ],
   "source": [
    "#Avg_Utilization_Ratio\n",
    "plt.figure(figsize=(4.2,3.1))\n",
    "sb.boxplot(x=data['Avg_Utilization_Ratio'])\n",
    "plt.title(\"Box plot for Average Utilization Ratio\")\n",
    "plt.xlabel(\"Average Utilization Ratio\")\n",
    "plt.show()"
   ]
  },
  {
   "cell_type": "markdown",
   "id": "3a522fcf",
   "metadata": {},
   "source": [
    "**Observation:**<br>\n",
    "    Avg_Utilization_Ratio has no outliers."
   ]
  },
  {
   "cell_type": "markdown",
   "id": "e2735b8f",
   "metadata": {},
   "source": [
    "**Observation**<br>\n",
    "Total Revolving Balance & Avg_Utilization_Ratio has no outliers.<br>\n",
    "Dependent_count,Months_on_book,Credit_Limit,Avg_Open_To_Buy,Total_Trans_Amt,Total_Trans_Ct has outliers"
   ]
  },
  {
   "cell_type": "markdown",
   "id": "b6d356c2",
   "metadata": {},
   "source": [
    "data to be loaded to tableau"
   ]
  },
  {
   "cell_type": "code",
   "execution_count": 79,
   "id": "2cca551c",
   "metadata": {},
   "outputs": [],
   "source": [
    "data.to_csv(\"Capstone_project_data.csv\")"
   ]
  }
 ],
 "metadata": {
  "kernelspec": {
   "display_name": "Python 3 (ipykernel)",
   "language": "python",
   "name": "python3"
  },
  "language_info": {
   "codemirror_mode": {
    "name": "ipython",
    "version": 3
   },
   "file_extension": ".py",
   "mimetype": "text/x-python",
   "name": "python",
   "nbconvert_exporter": "python",
   "pygments_lexer": "ipython3",
   "version": "3.11.3"
  }
 },
 "nbformat": 4,
 "nbformat_minor": 5
}
